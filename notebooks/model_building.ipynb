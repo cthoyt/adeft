{
 "cells": [
  {
   "cell_type": "markdown",
   "metadata": {},
   "source": [
    "# Building Adeft Models\n",
    "\n",
    "The [Introduction](introduction.ipynb) notebook explains how to use Adeft's pretrained disambiguation models. This notebook is for users who would like to build their own models or simply to better understand the inner workings of Adeft. Here we will go through the steps of creating a model for the shortform `IR`."
   ]
  },
  {
   "cell_type": "markdown",
   "metadata": {},
   "source": [
    "## Mining longform expansions from text corpora\n",
    "\n",
    "The first step in building a model is assembling a corpus of texts containing mentions of the desired shortform. Adeft does not provide tools for text acquisition. We assume users will be able to supply their own texts. For the pretrained models, texts are extracted from the [INDRA Database](https://github.com/indralab/indra_db) (which is not publicly available). For this tutorial we will use a sample of 500 texts from the over 10,000 texts used to build the pretrained model."
   ]
  },
  {
   "cell_type": "code",
   "execution_count": 1,
   "metadata": {},
   "outputs": [],
   "source": [
    "import json\n",
    "\n",
    "with open('data/example_texts.json') as f:\n",
    "    ir_texts = json.load(f)"
   ]
  },
  {
   "cell_type": "markdown",
   "metadata": {},
   "source": [
    "Adeft uses an implementation of the [Acromine](http://www.chokkan.org/research/acromine/) algorithm developed by [NaCTeM](http://www.nactem.ac.uk/software/acromine/) to identify longform expansions for a given shortform within a corpus of texts. This is done by searching for defining patterns (DPs) for the shortform within the texts. Statistical co-occurence frequencies are used to identify the correct expansions corresponding to the defining patterns. For example in the phrase\n",
    "\n",
    "> This is done by searching for defining patterns (DPs)...\n",
    "\n",
    "possible expansions for `DPs`, based on the text preceding the parentheses, are:\n",
    "* `patterns`\n",
    "* `defining patterns`\n",
    "* `for defining patterns`\n",
    "* `searching for defining patterns`\n",
    "* etc...\n",
    "\n",
    "While the appropriate text boundaries for the longform can in some cases be difficult to determine from a single sentence, the correct scope can be determined looking at defining patterns in a large corpus of texts. For example, given many such texts, the Acromine algorithm can determine that `defining patterns` occurs much more frequently than `for defining patterns` and that `patterns` occurs rarely without `defining` preceding it.\n",
    "\n",
    "In many cases it also possible to find the correct text boundaries by aligning the characters in prospective longforms with the characters in the associated shortform. In the above example the first characters of the longform match the characters in the shortform: **d**efining **p**atterns (**DP**). Adeft incorporates a sophisticated alignment based scoring algorithm and combines it with the Acromine based approach to improve precision and recall beyond what can be achieved with either method alone."
   ]
  },
  {
   "cell_type": "markdown",
   "metadata": {},
   "source": [
    "Longform expansions are mined from texts with the ``AdeftMiner`` class. The following code shows how to initialize an instance of ``AdeftMiner`` for a given shortform and process a list of texts."
   ]
  },
  {
   "cell_type": "code",
   "execution_count": 2,
   "metadata": {},
   "outputs": [],
   "source": [
    "from adeft.discover import AdeftMiner"
   ]
  },
  {
   "cell_type": "code",
   "execution_count": 3,
   "metadata": {},
   "outputs": [],
   "source": [
    "ir_miner = AdeftMiner('IR')"
   ]
  },
  {
   "cell_type": "code",
   "execution_count": 4,
   "metadata": {},
   "outputs": [],
   "source": [
    "ir_miner.process_texts(ir_texts)"
   ]
  },
  {
   "cell_type": "markdown",
   "metadata": {},
   "source": [
    "A score will be produced for each possible longform expansion. Top scoring expansions can be inspected as follows:"
   ]
  },
  {
   "cell_type": "code",
   "execution_count": 5,
   "metadata": {},
   "outputs": [
    {
     "data": {
      "text/plain": [
       "[('ionizing radiation', 150, 0.9704569606801275),\n",
       " ('insulin resistance', 131, 0.9685688522478423),\n",
       " ('ischemia reperfusion', 76, 0.9467455621301776),\n",
       " ('insulin receptor', 86, 0.9451355661881977),\n",
       " ('radiation', 178, 0.9228435197225835),\n",
       " ('irradiation', 23, 0.8318098720292505),\n",
       " ('reperfusion', 85, 0.7979797979797979),\n",
       " ('infrared', 18, 0.7869822485207101),\n",
       " ('resistance', 136, 0.6855491329479768),\n",
       " ('immunoreactive', 7, 0.5555555555555556),\n",
       " ('the insulin receptor', 35, 0.4001876348625575),\n",
       " ('rate', 5, 0.31034482758620685),\n",
       " ('ionising radiation', 22, 0.26829412460101665),\n",
       " ('to ionizing radiation', 43, 0.2619368311791019),\n",
       " ('immediate release', 3, 0.2),\n",
       " ('infrared spectroscopy', 3, 0.2),\n",
       " ('an iterative reconstruction', 3, 0.2),\n",
       " ('initial decay rate', 3, 0.1724137931034483),\n",
       " ('of insulin resistance', 19, 0.12779242967653584),\n",
       " ('lung ischemia reperfusion', 11, 0.11715976331360943)]"
      ]
     },
     "execution_count": 5,
     "metadata": {},
     "output_type": "execute_result"
    }
   ],
   "source": [
    "ir_miner.top(20, use_alignment_based_scoring=False)"
   ]
  },
  {
   "cell_type": "markdown",
   "metadata": {},
   "source": [
    "These \"raw\" longforms include redundant/overlapping entries (for example, \"ionizing radiation\" and \"to ionizing radiation\", and \"insulin resistance\" and \"of insulin resistance\"). Adeft analyzes the words in each longform to identify and remove non-relevant prefixes, arriving at an optimized set which can be inspected using the method ``get_longforms``:"
   ]
  },
  {
   "cell_type": "code",
   "execution_count": 6,
   "metadata": {
    "scrolled": true
   },
   "outputs": [
    {
     "data": {
      "text/plain": [
       "[('ionizing radiation', 150, 0.9704569606801275),\n",
       " ('insulin resistance', 131, 0.9685688522478423),\n",
       " ('insulin receptor', 86, 0.9451355661881977),\n",
       " ('ischemia reperfusion', 76, 0.9467455621301776),\n",
       " ('irradiation', 23, 0.8318098720292505),\n",
       " ('infrared', 18, 0.7869822485207101),\n",
       " ('immunoreactive', 7, 0.5555555555555556),\n",
       " ('rate', 5, 0.31034482758620685),\n",
       " ('an iterative reconstruction', 3, 0.2),\n",
       " ('immediate release', 3, 0.2),\n",
       " ('infrared spectroscopy', 3, 0.2)]"
      ]
     },
     "execution_count": 6,
     "metadata": {},
     "output_type": "execute_result"
    }
   ],
   "source": [
    "ir_miner.get_longforms(use_alignment_based_scoring=False)"
   ]
  },
  {
   "cell_type": "markdown",
   "metadata": {},
   "source": [
    "We see that Adeft obtains a reasonable set of longforms for ``IR`` from this corpus, though there are mistakes for longform expansions that appear less frequently. A better set of longforms can be found by incorporating alignment based scoring. Alignment based scoring is turned on by default."
   ]
  },
  {
   "cell_type": "code",
   "execution_count": 7,
   "metadata": {},
   "outputs": [
    {
     "data": {
      "text/plain": [
       "[('ionizing radiation', 150, 0.9963623875040957),\n",
       " ('insulin resistance', 131, 0.9963549849557908),\n",
       " ('insulin receptor', 86, 0.996346769663452),\n",
       " ('ischemia reperfusion', 76, 0.9963445302899536),\n",
       " ('irradiation', 23, 0.9967054552992847),\n",
       " ('ionising radiation', 22, 0.9658174307847472),\n",
       " ('infrared', 18, 0.9677666980660011),\n",
       " ('immunoreactive', 7, 0.9286419275546706),\n",
       " ('iterative reconstruction', 4, 0.9995556666481504),\n",
       " ('immediate release', 3, 0.9992003998667001),\n",
       " ('induced resistance', 3, 0.9919998944107065),\n",
       " ('initial decay rate', 3, 0.8490639333335526),\n",
       " ('ischemia and reperfusion', 3, 0.7726626658137018),\n",
       " ('infrared spectroscopy', 3, 0.7349345289121265),\n",
       " ('irregular and or linear opacities', 3, 0.6123805551410642),\n",
       " ('indirect revascularization', 2, 1.0),\n",
       " ('induced repair', 2, 1.0),\n",
       " ('information retrieval', 2, 1.0),\n",
       " ('input resistance', 2, 0.9913173258033389),\n",
       " ('ischaemia reperfusion', 2, 0.9843241652031548),\n",
       " ('ischemic reperfusion', 2, 0.9843241652031548),\n",
       " ('immune reconstitution', 1, 1.0),\n",
       " ('inflammatory redox', 1, 1.0),\n",
       " ('intrinsic religiosity', 1, 1.0),\n",
       " ('intron retention', 1, 1.0),\n",
       " ('ionizing raddition', 1, 1.0),\n",
       " ('insulin release', 1, 0.9993890416412069),\n",
       " ('inhibitory rate', 1, 0.9978915533436851),\n",
       " ('initial rate', 1, 0.9978915533436851),\n",
       " ('internal', 1, 0.956581021011436),\n",
       " ('infrared radiation', 1, 0.9523826142872965),\n",
       " ('resistance index', 1, 0.949999988079071),\n",
       " ('irregular opacities', 1, 0.7573683654921077),\n",
       " ('inflammation observed postischemia reperfusion', 1, 0.7451865131793463),\n",
       " ('initial rate of resistance decrease', 1, 0.7432112757345826),\n",
       " ('ile arg', 1, 0.7360219228178333),\n",
       " ('inwardly rectifying k + current', 1, 0.6931448431551464),\n",
       " ('with radiation', 1, 0.630572825791844),\n",
       " ('radiation therapy', 1, 0.6267903172681762),\n",
       " ('ray radiation', 1, 0.5994483141635291),\n",
       " ('reperfusion 3 min', 1, 0.5945355750006223),\n",
       " ('ionizing', 1, 0.4855933748302038),\n",
       " ('recur after radiation', 1, 0.4840424470038972),\n",
       " ('trail or a weak', 1, 0.1948982763988715)]"
      ]
     },
     "execution_count": 7,
     "metadata": {},
     "output_type": "execute_result"
    }
   ],
   "source": [
    "ir_miner.get_longforms(use_alignment_based_scoring=True)"
   ]
  },
  {
   "cell_type": "markdown",
   "metadata": {},
   "source": [
    "## Labeling Texts\n",
    "\n",
    "To build models, users must produce a dictionary that maps longforms to desired identifiers. We call these *grounding maps*. For the pretrained models we use labels consisting of a [Namespace](introduction.ipynb#Name-Spaces) and corresponding ID separated by a colon. An example grounding map is shown below."
   ]
  },
  {
   "cell_type": "code",
   "execution_count": 8,
   "metadata": {},
   "outputs": [],
   "source": [
    "grounding_map = {'ionizing radiation': 'MESH:D011839',\n",
    "                 'insulin resistance': 'MESH:D007333',\n",
    "                 'ischemia reperfusion': 'MESH:D015427',\n",
    "                 'insulin receptor': 'HGNC:6091',\n",
    "                 'irradiation': 'MESH:D011839',\n",
    "                 'infrared': 'MESH:D007259',\n",
    "                 'immunoreactive': 'ungrounded'}"
   ]
  },
  {
   "cell_type": "markdown",
   "metadata": {},
   "source": [
    "Given a grounding map, Adeft can automatically associate identifiers with the texts in the training corpus that contain defining patterns corresponding to one of the longform expansions in the grounding map. This is done with the ``AdeftLabeler`` class. To initialize this object, we need a dictionary mapping each shortform to a grounding map."
   ]
  },
  {
   "cell_type": "code",
   "execution_count": 9,
   "metadata": {},
   "outputs": [],
   "source": [
    "grounding_dict = {'IR': grounding_map}"
   ]
  },
  {
   "cell_type": "markdown",
   "metadata": {},
   "source": [
    "In some cases, it may be useful to train a model for multiple synonymous shortforms. For example, \"nanoparticles\" can be abbreviated as ``NP`` or ``NPs``, and it is useful to train a single model on texts containing both shortforms. In this case one can create a dictionary linking a grounding map to each shortform:"
   ]
  },
  {
   "cell_type": "code",
   "execution_count": 10,
   "metadata": {},
   "outputs": [],
   "source": [
    "np_grounding_dict = {\"NP\":  {\"nanoparticle\": \"MESH:D053758\",\n",
    "                             \"nucleus pulposus\": \"MESH:D000070614\",\n",
    "                             \"nucleoprotein\": \"MESH:D009698\",},\n",
    "                     \"NPs\": {\"nanoparticles\": \"MESH:D053758\",\n",
    "                             \"natriuretic peptides\": \"FPLX:Natriuretic_peptide\",\n",
    "                             \"nurse practitioners\": \"ungrounded\",}}"
   ]
  },
  {
   "cell_type": "markdown",
   "metadata": {},
   "source": [
    "Given a grounding dictionary for the relevant shortform(s), the ``AdeftLabeler`` is initialized as follows:"
   ]
  },
  {
   "cell_type": "code",
   "execution_count": 11,
   "metadata": {},
   "outputs": [],
   "source": [
    "from adeft.modeling.label import AdeftLabeler\n",
    "\n",
    "labeler = AdeftLabeler(grounding_dict)"
   ]
  },
  {
   "cell_type": "markdown",
   "metadata": {},
   "source": [
    "Texts for model training are labeled using the ``AdeftLabeler.build_from_texts`` method. The input should be a list like of tuples of the form (text, identifier). The output, ``corpus``, contains a list of three-element tuples of which the first element is a text with all defining patterns stripped out, the second element is a label taken from the values of the grounding map and the third element is identifier associated to the text in the input. Each text should have a unique identifier. The identifiers are useful for mapping texts in the output corpus back to texts in the input. Texts without defining patterns will be filtered out and those with defining patterns will be modified by replacing the defining patterns with only the shortform, making it nontrivial to map back without the identifiers."
   ]
  },
  {
   "cell_type": "code",
   "execution_count": 12,
   "metadata": {
    "scrolled": true
   },
   "outputs": [
    {
     "name": "stdout",
     "output_type": "stream",
     "text": [
      "corpus[0][0]: Polycystic ovary syndrome (PCOS) is the most common endocrinopathy aff...\n",
      "corpus[0][1]: MESH:D007333\n"
     ]
    }
   ],
   "source": [
    "corpus = labeler.build_from_texts([(text, identifier) for identifier, text in enumerate(ir_texts)])\n",
    "print(\"corpus[0][0]: %s...\" % corpus[0][0][0:70])\n",
    "print(\"corpus[0][1]: %s\" % str(corpus[0][1]))"
   ]
  },
  {
   "cell_type": "markdown",
   "metadata": {},
   "source": [
    "We use ``zip`` to convert this to two lists: a list of texts and a corresponding list of labels. Of the 500 input texts, 340 contained defining patterns for ``IR``."
   ]
  },
  {
   "cell_type": "code",
   "execution_count": 13,
   "metadata": {},
   "outputs": [
    {
     "name": "stdout",
     "output_type": "stream",
     "text": [
      "339\n"
     ]
    }
   ],
   "source": [
    "texts, labels, identifiers = zip(*corpus)\n",
    "\n",
    "print(len(texts))"
   ]
  },
  {
   "cell_type": "markdown",
   "metadata": {},
   "source": [
    "## Building Predictive Models"
   ]
  },
  {
   "cell_type": "markdown",
   "metadata": {},
   "source": [
    "The ``AdeftClassifier`` class can then be used to train a logistic regression model to disambiguate texts that do not contain a defining pattern. The ``AdeftClassifier`` must be initialized with the shortform of interest and a list of the labels to consider as *positive* labels. A positive label is one that is considered relevant to the user's information extraction task. Precision, recall, and F1 scores are calculated using a weighted average of the positive labels. There is an optional argument, `random_state`, which allows users to specify a seed to use in internal random number generators to guarantee consistent results. The following code illustrates the initialization of an ``AdeftClassifier``:"
   ]
  },
  {
   "cell_type": "code",
   "execution_count": 14,
   "metadata": {},
   "outputs": [],
   "source": [
    "%%capture\n",
    "from adeft.modeling.classify import AdeftClassifier\n",
    "\n",
    "classifier = AdeftClassifier('IR', ['MESH:D011839', 'HGNC:6091'], random_state=1)"
   ]
  },
  {
   "cell_type": "markdown",
   "metadata": {},
   "source": [
    "When training models to disambiguate multiple synonymous shortforms (as in the case  of ``NP``/``NPs``, above), the ``AdeftClassifier`` is passed a list of shortforms, as in the following example:"
   ]
  },
  {
   "cell_type": "code",
   "execution_count": 15,
   "metadata": {},
   "outputs": [],
   "source": [
    "np_classifier = AdeftClassifier(['NP', 'NPs'], ['MESH:D053758', 'FPLX:Natriuretic_peptide'])"
   ]
  },
  {
   "cell_type": "markdown",
   "metadata": {},
   "source": [
    "### Model Details\n",
    "\n",
    "The AdeftClassifier uses a Logistic Regression model with [TF-IDF](https://en.wikipedia.org/wiki/Tf%E2%80%93idf) vectorized [n-gram](https://en.wikipedia.org/wiki/N-gram) features. It is implemented with the [Scikit-Learn](https://scikit-learn.org/stable/) Python library. It has three parameters that can be tuned:\n",
    "\n",
    "* **C : float**\n",
    "\n",
    "$L_1$ regularization parameter. Following Scikit-learn's Logistic Regression implementation, $C$ is the reciprocal of the $L_1$ penalty $\\lambda$. Lower values of $C$ correspond to greater regularization. $L_1$ Regularization controls model complexity by adding a multiple, $\\lambda$, of the sum of the absolute value of coefficients to the Logistic Regression objective function. *$L_1$ regularization shrinks regression coefficients to zero, with higher regularization causing the model to use fewer features.*\n",
    "\n",
    "* **max_features : int**\n",
    "\n",
    "Cutoff for the number of TF-IDF vectorized $n$-grams to use as features. Selects the top $n$-grams by frequency in the training set.\n",
    "\n",
    "* **ngram_range : tuple of int**\n",
    "\n",
    "Range of values $n$ for which model takes $n$-grams as features. When ngram_range is set to (1, 1) only unigrams are used. Must be a tuple of ints $(a, b)$ with $a < b$. For ngram_range $(a, b)$ with $a <= b$, a-grams through b-grams are used.\n",
    "\n",
    "### Training\n",
    "\n",
    "The ``AdeftClassifier`` has a ``cv`` method which can be used to perform a cross-validated grid search to calculate classification metrics for a variety of parameter values. In this example, we have specified that only ``MESH:D011839`` (Ionizing Radiation) and ``HGNC:6091`` (Insulin Receptor) are to be considered as positive labels. This impacts how the classification metrics are calculated and hence how the training parameters are optimized. ``Adeft`` will report the crossvalidated precision, recall, and F1 score. For multilabel classification, ``Adeft`` will take the average of these scores over all positive labels, weighted by the frequency of each label in the test data. The ``cv`` method takes a ``param_grid`` argument as used in Sci-kit Learn's [GridSearchCV](https://scikit-learn.org/stable/modules/generated/sklearn.model_selection.GridSearchCV.html). ``param_grid`` must be provided as a dictionary mapping feature names to lists of values. Crossvalidation is performed for each combination of parameters from the lists.\n",
    "\n",
    "The following illustrates training with cross-validation using two alternative values for ``max_features``, 100 and 1000:"
   ]
  },
  {
   "cell_type": "code",
   "execution_count": 16,
   "metadata": {},
   "outputs": [],
   "source": [
    "%%capture\n",
    "param_grid = {'C': [10.0], 'max_features': [100, 1000], 'ngram_range': [(1, 2)]}\n",
    "classifier.cv(texts, labels, param_grid, cv=5)"
   ]
  },
  {
   "cell_type": "markdown",
   "metadata": {},
   "source": [
    "The parameter ``cv`` can either be an ``int`` specifying the number of folds, or a cross-validation generator or iterable as taken for the ``cv`` argument of a  [GridSearchCV](https://scikit-learn.org/stable/modules/generated/sklearn.model_selection.GridSearchCV.html) object. A summary of model statistics for the best combination of parameters can be accessed as follows."
   ]
  },
  {
   "cell_type": "code",
   "execution_count": 17,
   "metadata": {},
   "outputs": [
    {
     "data": {
      "text/plain": [
       "{'label_distribution': {'MESH:D007333': 87,\n",
       "  'MESH:D011839': 121,\n",
       "  'HGNC:6091': 70,\n",
       "  'MESH:D015427': 44,\n",
       "  'MESH:D007259': 11,\n",
       "  'ungrounded': 6},\n",
       " 'f1': {'mean': 0.920783, 'std': 0.022582},\n",
       " 'precision': {'mean': 0.903594, 'std': 0.041701},\n",
       " 'recall': {'mean': 0.942375, 'std': 0.042142},\n",
       " 'MESH:D007333': {'f1': {'mean': 0.862796, 'std': 0.026696},\n",
       "  'pr': {'mean': 0.861438, 'std': 0.059853},\n",
       "  'rc': {'mean': 0.872741, 'std': 0.073905}},\n",
       " 'MESH:D015427': {'f1': {'mean': 0.945029, 'std': 0.049704},\n",
       "  'pr': {'mean': 0.955556, 'std': 0.054433},\n",
       "  'rc': {'mean': 0.935556, 'std': 0.052775}},\n",
       " 'MESH:D007259': {'f1': {'mean': 0.346667, 'std': 0.299333},\n",
       "  'pr': {'mean': 0.266667, 'std': 0.226078},\n",
       "  'rc': {'mean': 0.5, 'std': 0.447214}},\n",
       " 'MESH:D011839': {'f1': {'mean': 0.952425, 'std': 0.028773},\n",
       "  'pr': {'mean': 0.975, 'std': 0.020412},\n",
       "  'rc': {'mean': 0.933333, 'std': 0.059259}},\n",
       " 'HGNC:6091': {'f1': {'mean': 0.866005, 'std': 0.068818},\n",
       "  'pr': {'mean': 0.885714, 'std': 0.09689},\n",
       "  'rc': {'mean': 0.852259, 'std': 0.069444}},\n",
       " 'ungrounded': {'f1': {'mean': 0.133333, 'std': 0.266667},\n",
       "  'pr': {'mean': 0.2, 'std': 0.4},\n",
       "  'rc': {'mean': 0.1, 'std': 0.2}}}"
      ]
     },
     "execution_count": 17,
     "metadata": {},
     "output_type": "execute_result"
    }
   ],
   "source": [
    "classifier.stats"
   ]
  },
  {
   "cell_type": "markdown",
   "metadata": {},
   "source": [
    "It's also possible to access the underlying [GridSearchCV](https://scikit-learn.org/stable/modules/generated/sklearn.model_selection.GridSearchCV.html) object to get more detailed information. See the Scikit-learn documentation for more information."
   ]
  },
  {
   "cell_type": "code",
   "execution_count": 18,
   "metadata": {},
   "outputs": [
    {
     "name": "stdout",
     "output_type": "stream",
     "text": [
      "{'mean_fit_time': array([0.57703204, 0.7173964 ]), 'std_fit_time': array([0.01669423, 0.02085978]), 'mean_score_time': array([0.09546256, 0.09719687]), 'std_score_time': array([0.00533309, 0.00544647]), 'param_logit__C': masked_array(data=[10.0, 10.0],\n",
      "             mask=[False, False],\n",
      "       fill_value='?',\n",
      "            dtype=object), 'param_tfidf__max_features': masked_array(data=[100, 1000],\n",
      "             mask=[False, False],\n",
      "       fill_value='?',\n",
      "            dtype=object), 'param_tfidf__ngram_range': masked_array(data=[(1, 2), (1, 2)],\n",
      "             mask=[False, False],\n",
      "       fill_value='?',\n",
      "            dtype=object), 'params': [{'logit__C': 10.0, 'tfidf__max_features': 100, 'tfidf__ngram_range': (1, 2)}, {'logit__C': 10.0, 'tfidf__max_features': 1000, 'tfidf__ngram_range': (1, 2)}], 'split0_test_f1_weighted': array([0.89104558, 0.89684211]), 'split1_test_f1_weighted': array([0.96024636, 0.9       ]), 'split2_test_f1_weighted': array([0.92406312, 0.92406312]), 'split3_test_f1_weighted': array([0.91176471, 0.94639676]), 'split4_test_f1_weighted': array([0.91679567, 0.87773279]), 'mean_test_f1_weighted': array([0.92078309, 0.90900696]), 'std_test_f1_weighted': array([0.02258167, 0.0237986 ]), 'rank_test_f1_weighted': array([1, 2], dtype=int32), 'split0_test_pr_weighted': array([0.91497976, 0.87449393]), 'split1_test_pr_weighted': array([0.97368421, 0.88157895]), 'split2_test_pr_weighted': array([0.90123457, 0.90123457]), 'split3_test_pr_weighted': array([0.88011696, 0.951417  ]), 'split4_test_pr_weighted': array([0.84795322, 0.81766917]), 'mean_test_pr_weighted': array([0.90359374, 0.88527872]), 'std_test_pr_weighted': array([0.0417011 , 0.04319702]), 'rank_test_pr_weighted': array([1, 2], dtype=int32), 'split0_test_rc_weighted': array([0.86842105, 0.92105263]), 'split1_test_rc_weighted': array([0.94736842, 0.92105263]), 'split2_test_rc_weighted': array([0.94871795, 0.94871795]), 'split3_test_rc_weighted': array([0.94736842, 0.94736842]), 'split4_test_rc_weighted': array([1.        , 0.94736842]), 'mean_test_rc_weighted': array([0.94237517, 0.93711201]), 'std_test_rc_weighted': array([0.04214245, 0.01312168]), 'rank_test_rc_weighted': array([1, 2], dtype=int32), 'split0_test_f1_MESH:D007333': array([0.81081081, 0.91428571]), 'split1_test_f1_MESH:D007333': array([0.87179487, 0.82352941]), 'split2_test_f1_MESH:D007333': array([0.88235294, 0.88235294]), 'split3_test_f1_MESH:D007333': array([0.88235294, 0.91428571]), 'split4_test_f1_MESH:D007333': array([0.86666667, 0.8       ]), 'mean_test_f1_MESH:D007333': array([0.86279565, 0.86689076]), 'std_test_f1_MESH:D007333': array([0.02669595, 0.04708763]), 'rank_test_f1_MESH:D007333': array([2, 1], dtype=int32), 'split0_test_pr_MESH:D007333': array([0.83333333, 0.88888889]), 'split1_test_pr_MESH:D007333': array([0.94444444, 0.77777778]), 'split2_test_pr_MESH:D007333': array([0.88235294, 0.88235294]), 'split3_test_pr_MESH:D007333': array([0.88235294, 0.94117647]), 'split4_test_pr_MESH:D007333': array([0.76470588, 0.70588235]), 'mean_test_pr_MESH:D007333': array([0.86143791, 0.83921569]), 'std_test_pr_MESH:D007333': array([0.05985301, 0.08517822]), 'rank_test_pr_MESH:D007333': array([1, 2], dtype=int32), 'split0_test_rc_MESH:D007333': array([0.78947368, 0.94117647]), 'split1_test_rc_MESH:D007333': array([0.80952381, 0.875     ]), 'split2_test_rc_MESH:D007333': array([0.88235294, 0.88235294]), 'split3_test_rc_MESH:D007333': array([0.88235294, 0.88888889]), 'split4_test_rc_MESH:D007333': array([1.        , 0.92307692]), 'mean_test_rc_MESH:D007333': array([0.87274068, 0.90209904]), 'std_test_rc_MESH:D007333': array([0.07390466, 0.02555735]), 'rank_test_rc_MESH:D007333': array([2, 1], dtype=int32), 'split0_test_f1_MESH:D015427': array([0.94736842, 0.88888889]), 'split1_test_f1_MESH:D015427': array([0.88888889, 1.        ]), 'split2_test_f1_MESH:D015427': array([1.        , 0.94117647]), 'split3_test_f1_MESH:D015427': array([0.88888889, 0.94736842]), 'split4_test_f1_MESH:D015427': array([1., 1.]), 'mean_test_f1_MESH:D015427': array([0.94502924, 0.95548676]), 'std_test_f1_MESH:D015427': array([0.04970416, 0.0416385 ]), 'rank_test_f1_MESH:D015427': array([2, 1], dtype=int32), 'split0_test_pr_MESH:D015427': array([1.        , 0.88888889]), 'split1_test_pr_MESH:D015427': array([0.88888889, 1.        ]), 'split2_test_pr_MESH:D015427': array([1., 1.]), 'split3_test_pr_MESH:D015427': array([0.88888889, 1.        ]), 'split4_test_pr_MESH:D015427': array([1., 1.]), 'mean_test_pr_MESH:D015427': array([0.95555556, 0.97777778]), 'std_test_pr_MESH:D015427': array([0.05443311, 0.04444444]), 'rank_test_pr_MESH:D015427': array([2, 1], dtype=int32), 'split0_test_rc_MESH:D015427': array([0.9       , 0.88888889]), 'split1_test_rc_MESH:D015427': array([0.88888889, 1.        ]), 'split2_test_rc_MESH:D015427': array([1.        , 0.88888889]), 'split3_test_rc_MESH:D015427': array([0.88888889, 0.9       ]), 'split4_test_rc_MESH:D015427': array([1., 1.]), 'mean_test_rc_MESH:D015427': array([0.93555556, 0.93555556]), 'std_test_rc_MESH:D015427': array([0.05277485, 0.05277485]), 'rank_test_rc_MESH:D015427': array([1, 1], dtype=int32), 'split0_test_f1_MESH:D007259': array([0.66666667, 1.        ]), 'split1_test_f1_MESH:D007259': array([0.66666667, 1.        ]), 'split2_test_f1_MESH:D007259': array([0.4, 0.5]), 'split3_test_f1_MESH:D007259': array([0., 1.]), 'split4_test_f1_MESH:D007259': array([0.        , 0.66666667]), 'mean_test_f1_MESH:D007259': array([0.34666667, 0.83333333]), 'std_test_f1_MESH:D007259': array([0.29933259, 0.21081851]), 'rank_test_f1_MESH:D007259': array([2, 1], dtype=int32), 'split0_test_pr_MESH:D007259': array([0.5, 1. ]), 'split1_test_pr_MESH:D007259': array([0.5, 1. ]), 'split2_test_pr_MESH:D007259': array([0.33333333, 0.33333333]), 'split3_test_pr_MESH:D007259': array([0., 1.]), 'split4_test_pr_MESH:D007259': array([0. , 0.5]), 'mean_test_pr_MESH:D007259': array([0.26666667, 0.76666667]), 'std_test_pr_MESH:D007259': array([0.22607767, 0.29059326]), 'rank_test_pr_MESH:D007259': array([2, 1], dtype=int32), 'split0_test_rc_MESH:D007259': array([1., 1.]), 'split1_test_rc_MESH:D007259': array([1., 1.]), 'split2_test_rc_MESH:D007259': array([0.5, 1. ]), 'split3_test_rc_MESH:D007259': array([0., 1.]), 'split4_test_rc_MESH:D007259': array([0., 1.]), 'mean_test_rc_MESH:D007259': array([0.5, 1. ]), 'std_test_rc_MESH:D007259': array([0.4472136, 0.       ]), 'rank_test_rc_MESH:D007259': array([2, 1], dtype=int32), 'split0_test_f1_MESH:D011839': array([0.9787234, 0.92     ]), 'split1_test_f1_MESH:D011839': array([0.9787234 , 0.95833333]), 'split2_test_f1_MESH:D011839': array([0.96153846, 0.96153846]), 'split3_test_f1_MESH:D011839': array([0.90196078, 0.96      ]), 'split4_test_f1_MESH:D011839': array([0.94117647, 0.92307692]), 'mean_test_f1_MESH:D011839': array([0.9524245 , 0.94458974]), 'std_test_f1_MESH:D011839': array([0.02877302, 0.01887368]), 'rank_test_f1_MESH:D011839': array([1, 2], dtype=int32), 'split0_test_pr_MESH:D011839': array([0.95833333, 0.95833333]), 'split1_test_pr_MESH:D011839': array([0.95833333, 0.95833333]), 'split2_test_pr_MESH:D011839': array([1., 1.]), 'split3_test_pr_MESH:D011839': array([0.95833333, 1.        ]), 'split4_test_pr_MESH:D011839': array([1., 1.]), 'mean_test_pr_MESH:D011839': array([0.975     , 0.98333333]), 'std_test_pr_MESH:D011839': array([0.02041241, 0.02041241]), 'rank_test_pr_MESH:D011839': array([2, 1], dtype=int32), 'split0_test_rc_MESH:D011839': array([1.        , 0.88461538]), 'split1_test_rc_MESH:D011839': array([1.        , 0.95833333]), 'split2_test_rc_MESH:D011839': array([0.92592593, 0.92592593]), 'split3_test_rc_MESH:D011839': array([0.85185185, 0.92307692]), 'split4_test_rc_MESH:D011839': array([0.88888889, 0.85714286]), 'mean_test_rc_MESH:D011839': array([0.93333333, 0.90981888]), 'std_test_rc_MESH:D011839': array([0.05925926, 0.03521035]), 'rank_test_rc_MESH:D011839': array([1, 2], dtype=int32), 'split0_test_f1_HGNC:6091': array([0.74074074, 0.85714286]), 'split1_test_f1_HGNC:6091': array([0.92857143, 0.8       ]), 'split2_test_f1_HGNC:6091': array([0.85714286, 0.85714286]), 'split3_test_f1_HGNC:6091': array([0.92857143, 0.92307692]), 'split4_test_f1_HGNC:6091': array([0.875, 0.8  ]), 'mean_test_f1_HGNC:6091': array([0.86600529, 0.84747253]), 'std_test_f1_HGNC:6091': array([0.06881816, 0.04562968]), 'rank_test_f1_HGNC:6091': array([1, 2], dtype=int32), 'split0_test_pr_HGNC:6091': array([0.71428571, 0.85714286]), 'split1_test_pr_HGNC:6091': array([0.92857143, 0.85714286]), 'split2_test_pr_HGNC:6091': array([0.85714286, 0.85714286]), 'split3_test_pr_HGNC:6091': array([0.92857143, 0.85714286]), 'split4_test_pr_HGNC:6091': array([1.        , 0.85714286]), 'mean_test_pr_HGNC:6091': array([0.88571429, 0.85714286]), 'std_test_pr_HGNC:6091': array([0.09689043, 0.        ]), 'rank_test_pr_HGNC:6091': array([1, 2], dtype=int32), 'split0_test_rc_HGNC:6091': array([0.76923077, 0.85714286]), 'split1_test_rc_HGNC:6091': array([0.92857143, 0.75      ]), 'split2_test_rc_HGNC:6091': array([0.85714286, 0.85714286]), 'split3_test_rc_HGNC:6091': array([0.92857143, 1.        ]), 'split4_test_rc_HGNC:6091': array([0.77777778, 0.75      ]), 'mean_test_rc_HGNC:6091': array([0.85225885, 0.84285714]), 'std_test_rc_HGNC:6091': array([0.06944374, 0.09202928]), 'rank_test_rc_HGNC:6091': array([1, 2], dtype=int32), 'split0_test_f1_ungrounded': array([0.66666667, 0.        ]), 'split1_test_f1_ungrounded': array([0., 0.]), 'split2_test_f1_ungrounded': array([0., 0.]), 'split3_test_f1_ungrounded': array([0., 0.]), 'split4_test_f1_ungrounded': array([0., 0.]), 'mean_test_f1_ungrounded': array([0.13333333, 0.        ]), 'std_test_f1_ungrounded': array([0.26666667, 0.        ]), 'rank_test_f1_ungrounded': array([1, 2], dtype=int32), 'split0_test_pr_ungrounded': array([1., 0.]), 'split1_test_pr_ungrounded': array([0., 0.]), 'split2_test_pr_ungrounded': array([0., 0.]), 'split3_test_pr_ungrounded': array([0., 0.]), 'split4_test_pr_ungrounded': array([0., 0.]), 'mean_test_pr_ungrounded': array([0.2, 0. ]), 'std_test_pr_ungrounded': array([0.4, 0. ]), 'rank_test_pr_ungrounded': array([1, 2], dtype=int32), 'split0_test_rc_ungrounded': array([0.5, 0. ]), 'split1_test_rc_ungrounded': array([0., 0.]), 'split2_test_rc_ungrounded': array([0., 0.]), 'split3_test_rc_ungrounded': array([0., 0.]), 'split4_test_rc_ungrounded': array([0., 0.]), 'mean_test_rc_ungrounded': array([0.1, 0. ]), 'std_test_rc_ungrounded': array([0.2, 0. ]), 'rank_test_rc_ungrounded': array([1, 2], dtype=int32)}\n"
     ]
    }
   ],
   "source": [
    "grid_search = classifier.grid_search\n",
    "print(grid_search.cv_results_)"
   ]
  },
  {
   "cell_type": "markdown",
   "metadata": {},
   "source": [
    "### Feature Importances\n",
    "A method exists to calculate feature importance scores for each label"
   ]
  },
  {
   "cell_type": "code",
   "execution_count": 19,
   "metadata": {},
   "outputs": [],
   "source": [
    "fi = classifier.feature_importances()"
   ]
  },
  {
   "cell_type": "markdown",
   "metadata": {},
   "source": [
    "`classifier.feature_importances` returns a dictionary mapping class labels to lists of (feature, importance score) pairs"
   ]
  },
  {
   "cell_type": "markdown",
   "metadata": {},
   "source": [
    "The top ten features for the label insulin receptor (HGNC:6091) are shown below"
   ]
  },
  {
   "cell_type": "code",
   "execution_count": 20,
   "metadata": {},
   "outputs": [
    {
     "data": {
      "text/plain": [
       "[('insulin', 3.3528),\n",
       " ('igf', 1.0748),\n",
       " ('signaling', 0.325),\n",
       " ('phosphorylation', 0.2345),\n",
       " ('kinase', 0.2333),\n",
       " ('binding', 0.2318),\n",
       " ('cells', 0.23),\n",
       " ('mice', 0.2232),\n",
       " ('proteins', 0.1847),\n",
       " ('receptor', 0.1765)]"
      ]
     },
     "execution_count": 20,
     "metadata": {},
     "output_type": "execute_result"
    }
   ],
   "source": [
    "fi['HGNC:6091'][0:10]"
   ]
  },
  {
   "cell_type": "markdown",
   "metadata": {},
   "source": [
    "These scores can aid in interpretion of how the classifier is making its predictions. A feature importance score is a standardized logistic regression coefficient. It is equal to the change in the linear predictor corresponding to a one standard deviation change in the associated feature value."
   ]
  },
  {
   "cell_type": "markdown",
   "metadata": {},
   "source": [
    "## Disambiguators\n",
    "\n",
    "The logistic regression classifier we've produced in the steps above can be combined with the ``grounding_dict`` to build a disambiguator like the one shown in the [Introduction](introduction.ipynb) notebook. These are instantiated as ``AdeftDisambiguator`` objects. An ``AdeftDisambiguator`` first seeks to disambiguate text by searching for defining patterns. The logistic regression model is used only if a defining pattern for the shortform is not found.\n",
    "\n",
    "You may recall from the introduction that a disambiguator returns standardized names for each grounding label. These must be explicitly supplied, as in the example below:"
   ]
  },
  {
   "cell_type": "code",
   "execution_count": 21,
   "metadata": {},
   "outputs": [],
   "source": [
    "names = {'MESH:D011839': 'Radiation, Ionizing',\n",
    "         'MESH:D007333': 'Insulin Resistance',\n",
    "         'HGNC:6091': 'INSR',\n",
    "         'MESH:D015427': 'Reperfusion Injury',\n",
    "         'MESH:D007259': 'Infrared Rays'}"
   ]
  },
  {
   "cell_type": "markdown",
   "metadata": {},
   "source": [
    "An ``AdeftDisambiguator`` is instantiated with a classifier, grounding_dict, and dictionary of names as follows:"
   ]
  },
  {
   "cell_type": "code",
   "execution_count": 22,
   "metadata": {},
   "outputs": [],
   "source": [
    "from adeft.disambiguate import AdeftDisambiguator\n",
    "\n",
    "my_disambiguator = AdeftDisambiguator(classifier, grounding_dict, names)"
   ]
  },
  {
   "cell_type": "markdown",
   "metadata": {},
   "source": [
    "We can use the ``info`` method to see statistics for our custom disambiguator just as for the pretrained disambiguators:"
   ]
  },
  {
   "cell_type": "code",
   "execution_count": 23,
   "metadata": {},
   "outputs": [
    {
     "name": "stdout",
     "output_type": "stream",
     "text": [
      "Disambiguation model for IR\n",
      "\n",
      "Produces the disambiguations:\n",
      "\tINSR*\tHGNC:6091\n",
      "\tInfrared Rays\tMESH:D007259\n",
      "\tInsulin Resistance\tMESH:D007333\n",
      "\tRadiation, Ionizing*\tMESH:D011839\n",
      "\tReperfusion Injury\tMESH:D015427\n",
      "\n",
      "Class level metrics:\n",
      "--------------------\n",
      "Grounding          \tCount\tF1     \n",
      "Radiation, Ionizing*\t121\t0.95242\n",
      " Insulin Resistance\t 87\t 0.8628\n",
      "               INSR*\t 70\t  0.866\n",
      " Reperfusion Injury\t 44\t0.94503\n",
      "      Infrared Rays\t 11\t0.34667\n",
      "         Ungrounded\t  6\t0.13333\n",
      "\n",
      "Weighted Metrics:\n",
      "-----------------\n",
      "\tF1 score:\t0.92078\n",
      "\tPrecision:\t0.90359\n",
      "\tRecall:\t\t0.94238\n",
      "\n",
      "* Positive labels\n",
      "See Docstring for explanation\n",
      "\n"
     ]
    }
   ],
   "source": [
    "print(my_disambiguator.info())"
   ]
  },
  {
   "cell_type": "markdown",
   "metadata": {},
   "source": [
    "We can then disambiguate the examples from the Introduction notebook:"
   ]
  },
  {
   "cell_type": "code",
   "execution_count": 24,
   "metadata": {},
   "outputs": [],
   "source": [
    "example1 = ('Ionizing radiation (IR) is radiation that carries enough energy to detach electrons'\n",
    "            ' from atoms or molecules')\n",
    "example2 = ('The detrimental effects of IR involve a highly orchestrated series of'\n",
    "            ' events that are amplified by endogenous signaling and culminating in'\n",
    "            ' oxidative damage to DNA, lipids, proteins, and many metabolites.')\n",
    "with open('data/example.txt') as f:\n",
    "    example3 = f.read()"
   ]
  },
  {
   "cell_type": "markdown",
   "metadata": {},
   "source": [
    "The first example contains a defining pattern. The logistic regression classifier is used for the second two examples and produces the correct groundings."
   ]
  },
  {
   "cell_type": "code",
   "execution_count": 25,
   "metadata": {},
   "outputs": [
    {
     "data": {
      "text/plain": [
       "('MESH:D011839',\n",
       " 'Radiation, Ionizing',\n",
       " {'MESH:D007333': 0.0,\n",
       "  'MESH:D015427': 0.0,\n",
       "  'MESH:D007259': 0.0,\n",
       "  'MESH:D011839': 1.0,\n",
       "  'HGNC:6091': 0.0,\n",
       "  'ungrounded': 0.0})"
      ]
     },
     "execution_count": 25,
     "metadata": {},
     "output_type": "execute_result"
    }
   ],
   "source": [
    "my_disambiguator.disambiguate(example1)"
   ]
  },
  {
   "cell_type": "code",
   "execution_count": 26,
   "metadata": {},
   "outputs": [
    {
     "data": {
      "text/plain": [
       "('MESH:D011839',\n",
       " 'Radiation, Ionizing',\n",
       " {'HGNC:6091': 0.038662780698196474,\n",
       "  'MESH:D007259': 0.020513570286436987,\n",
       "  'MESH:D007333': 0.015918259163339624,\n",
       "  'MESH:D011839': 0.9163113451061036,\n",
       "  'MESH:D015427': 0.005280355458559227,\n",
       "  'ungrounded': 0.0033136892873640296})"
      ]
     },
     "execution_count": 26,
     "metadata": {},
     "output_type": "execute_result"
    }
   ],
   "source": [
    "my_disambiguator.disambiguate(example2)"
   ]
  },
  {
   "cell_type": "code",
   "execution_count": 27,
   "metadata": {},
   "outputs": [
    {
     "data": {
      "text/plain": [
       "('HGNC:6091',\n",
       " 'INSR',\n",
       " {'HGNC:6091': 0.9243910860467834,\n",
       "  'MESH:D007259': 0.00010838360228394614,\n",
       "  'MESH:D007333': 0.07526417482847236,\n",
       "  'MESH:D011839': 8.971279682864572e-05,\n",
       "  'MESH:D015427': 1.9006913192174166e-05,\n",
       "  'ungrounded': 0.0001276358124393321})"
      ]
     },
     "execution_count": 27,
     "metadata": {},
     "output_type": "execute_result"
    }
   ],
   "source": [
    "my_disambiguator.disambiguate(example3)"
   ]
  },
  {
   "cell_type": "markdown",
   "metadata": {},
   "source": [
    "## Saving Disambiguators\n",
    "\n",
    "Disambiguators can be serialized for use at a later time. A disambiguator has three components: a logistic regression model, a grounding dictionary, and a names dictionary. These will be saved to three separate files within a directory with the following structure."
   ]
  },
  {
   "cell_type": "markdown",
   "metadata": {},
   "source": [
    "* `<ModelName>`\n",
    "    - `<ModelName>_grounding_dict.json`\n",
    "    - `<ModelName>_names.json`\n",
    "    - `<ModelName>_model.gz`"
   ]
  },
  {
   "cell_type": "markdown",
   "metadata": {},
   "source": [
    "Models are saved to the user's filesystem using ``AdeftDisambiguator.dump``, which takes two arguments: a string identifying the model (e.g., ``IR``), and a path to a folder for storing models. Because the model identifier is used to create subfolders within the model directory, characters such as \"/\" should not be used. Also note that some file systems (e.g., Mac OS) are case-insensitive."
   ]
  },
  {
   "cell_type": "code",
   "execution_count": 28,
   "metadata": {},
   "outputs": [],
   "source": [
    "my_disambiguator.dump('IR', path='data')"
   ]
  },
  {
   "cell_type": "markdown",
   "metadata": {},
   "source": [
    "An ``IR`` subfolder is created for the model inside the ``data`` directory:"
   ]
  },
  {
   "cell_type": "code",
   "execution_count": 26,
   "metadata": {
    "scrolled": true
   },
   "outputs": [
    {
     "name": "stdout",
     "output_type": "stream",
     "text": [
      "total 4.7M\r\n",
      "drwxr-xr-x 5 albertsteppi  160 Jul  8  2019 IR/\r\n",
      "-rw-r--r-- 1 albertsteppi 5.7K Jun 26  2019 example.txt\r\n",
      "-rw-r--r-- 1 albertsteppi 4.7M Jun 26  2019 example_texts.json\r\n"
     ]
    }
   ],
   "source": [
    "ls -lh 'data'"
   ]
  },
  {
   "cell_type": "markdown",
   "metadata": {},
   "source": [
    "The model folder contains three files:"
   ]
  },
  {
   "cell_type": "code",
   "execution_count": 27,
   "metadata": {},
   "outputs": [
    {
     "name": "stdout",
     "output_type": "stream",
     "text": [
      "total 32K\r\n",
      "-rw-r--r-- 1 albertsteppi 248 Jan 29 17:05 IR_grounding_dict.json\r\n",
      "-rw-r--r-- 1 albertsteppi 24K Jan 29 17:05 IR_model.gz\r\n",
      "-rw-r--r-- 1 albertsteppi 169 Jan 29 17:05 IR_names.json\r\n"
     ]
    }
   ],
   "source": [
    "ls -lh 'data/IR/'"
   ]
  },
  {
   "cell_type": "markdown",
   "metadata": {},
   "source": [
    "The file ``IR_model.gz`` contains the coefficients of the logistic regression model, the $n$-gram features along with their frequencies in the document training data, and other classifier metadata. These are stored within a json file which is then compressed with gzip. The grounding and names dictionaries are serialized directly to json. When downloaded, ``Adeft``'s pretrained models are stored in this format within a hidden folder in the users home directory called ``.adeft``.\n",
    "\n",
    "To load custom models, the ``load_disambiguator`` function used in the Introduction notebook can be passed an optional ``path`` argument for a user-specified model folder, as shown below:"
   ]
  },
  {
   "cell_type": "code",
   "execution_count": 29,
   "metadata": {},
   "outputs": [
    {
     "name": "stdout",
     "output_type": "stream",
     "text": [
      "Disambiguation model for IR\n",
      "\n",
      "Produces the disambiguations:\n",
      "\tINSR*\tHGNC:6091\n",
      "\tInfrared Rays\tMESH:D007259\n",
      "\tInsulin Resistance\tMESH:D007333\n",
      "\tRadiation, Ionizing*\tMESH:D011839\n",
      "\tReperfusion Injury\tMESH:D015427\n",
      "\n",
      "Class level metrics:\n",
      "--------------------\n",
      "Grounding          \tCount\tF1     \n",
      "Radiation, Ionizing*\t121\t0.95242\n",
      " Insulin Resistance\t 87\t 0.8628\n",
      "               INSR*\t 70\t0.86601\n",
      " Reperfusion Injury\t 44\t0.94503\n",
      "      Infrared Rays\t 11\t0.34667\n",
      "         Ungrounded\t  6\t0.13333\n",
      "\n",
      "Weighted Metrics:\n",
      "-----------------\n",
      "\tF1 score:\t0.92078\n",
      "\tPrecision:\t0.90359\n",
      "\tRecall:\t\t0.94237\n",
      "\n",
      "* Positive labels\n",
      "See Docstring for explanation\n",
      "\n"
     ]
    }
   ],
   "source": [
    "from adeft.disambiguate import load_disambiguator\n",
    "\n",
    "also_my_disambiguator = load_disambiguator('IR', path='data')\n",
    "\n",
    "print(also_my_disambiguator.info())"
   ]
  },
  {
   "cell_type": "markdown",
   "metadata": {},
   "source": [
    "The serialized model we have loaded produces the same disambiguation results as the original model:"
   ]
  },
  {
   "cell_type": "code",
   "execution_count": 30,
   "metadata": {},
   "outputs": [
    {
     "data": {
      "text/plain": [
       "('HGNC:6091',\n",
       " 'INSR',\n",
       " {'HGNC:6091': 0.9243910860467834,\n",
       "  'MESH:D007259': 0.00010838360228394614,\n",
       "  'MESH:D007333': 0.07526417482847236,\n",
       "  'MESH:D011839': 8.971279682864572e-05,\n",
       "  'MESH:D015427': 1.9006913192174166e-05,\n",
       "  'ungrounded': 0.0001276358124393321})"
      ]
     },
     "execution_count": 30,
     "metadata": {},
     "output_type": "execute_result"
    }
   ],
   "source": [
    "also_my_disambiguator.disambiguate(example3)"
   ]
  },
  {
   "cell_type": "code",
   "execution_count": 31,
   "metadata": {},
   "outputs": [
    {
     "data": {
      "text/plain": [
       "('HGNC:6091',\n",
       " 'INSR',\n",
       " {'HGNC:6091': 0.9243910860467834,\n",
       "  'MESH:D007259': 0.00010838360228394614,\n",
       "  'MESH:D007333': 0.07526417482847236,\n",
       "  'MESH:D011839': 8.971279682864572e-05,\n",
       "  'MESH:D015427': 1.9006913192174166e-05,\n",
       "  'ungrounded': 0.0001276358124393321})"
      ]
     },
     "execution_count": 31,
     "metadata": {},
     "output_type": "execute_result"
    }
   ],
   "source": [
    "my_disambiguator.disambiguate(example3)"
   ]
  },
  {
   "cell_type": "markdown",
   "metadata": {},
   "source": [
    "## Adeft Grounding Assistant\n",
    "\n",
    "Because the task of linking groundings to longforms is not automated, Adeft provides a simple graphical user interface to assist with data entry for grounding.\n",
    "\n",
    "The function ``adeft.gui.ground_with_gui`` opens a simple web application in the browser to allow users to enter groundings for longforms, standardized names, and choose which labels should be considered positive labels when evaluating classifiers. By default application requires that port 5000 be free on the user's machine but there is an optional argument for specifying an alternative port."
   ]
  },
  {
   "cell_type": "code",
   "execution_count": 32,
   "metadata": {},
   "outputs": [],
   "source": [
    "from adeft.gui import ground_with_gui\n",
    "from adeft.locations import GROUNDINGS_FILE_PATH\n",
    "\n",
    "longforms, counts, scores = zip(*ir_miner.get_longforms())"
   ]
  },
  {
   "cell_type": "code",
   "execution_count": 11,
   "metadata": {},
   "outputs": [],
   "source": [
    "result = ground_with_gui(longforms, counts, groundings_file=GROUNDINGS_FILE_PATH)"
   ]
  },
  {
   "cell_type": "code",
   "execution_count": 15,
   "metadata": {},
   "outputs": [
    {
     "data": {
      "text/plain": [
       "({'ile arg': 'ungrounded',\n",
       "  'immediate release': 'ungrounded',\n",
       "  'immune reconstitution': 'ungrounded',\n",
       "  'immunoreactive': 'ungrounded',\n",
       "  'indirect revascularization': 'ungrounded',\n",
       "  'induced repair': 'ungrounded',\n",
       "  'induced resistance': 'ungrounded',\n",
       "  'inflammation observed postischemia reperfusion': 'MESH:D015427',\n",
       "  'inflammatory redox': 'ungrounded',\n",
       "  'information retrieval': 'ungrounded',\n",
       "  'infrared': 'MESH:D007259',\n",
       "  'infrared radiation': 'MESH:D007259',\n",
       "  'infrared spectroscopy': 'ungrounded',\n",
       "  'inhibitory rate': 'ungrounded',\n",
       "  'initial decay rate': 'ungrounded',\n",
       "  'initial rate': 'ungrounded',\n",
       "  'initial rate of resistance decrease': 'ungrounded',\n",
       "  'input resistance': 'ungrounded',\n",
       "  'insulin receptor': 'HGNC:6091',\n",
       "  'insulin release': 'ungrounded',\n",
       "  'insulin resistance': 'MESH:D015427',\n",
       "  'internal': 'ungrounded',\n",
       "  'intrinsic religiosity': 'ungrounded',\n",
       "  'intron retention': 'ungrounded',\n",
       "  'inwardly rectifying k + current': 'ungrounded',\n",
       "  'ionising radiation': 'MESH:D011839',\n",
       "  'ionizing': 'MESH:D011839',\n",
       "  'ionizing raddition': 'MESH:D011839',\n",
       "  'ionizing radiation': 'MESH:D011839',\n",
       "  'irradiation': 'MESH:D011839',\n",
       "  'irregular and or linear opacities': 'ungrounded',\n",
       "  'irregular opacities': 'ungrounded',\n",
       "  'ischaemia reperfusion': 'MESH:D015427',\n",
       "  'ischemia and reperfusion': 'MESH:D015427',\n",
       "  'ischemia reperfusion': 'MESH:D015427',\n",
       "  'ischemic reperfusion': 'MESH:D015427',\n",
       "  'iterative reconstruction': 'ungrounded',\n",
       "  'radiation therapy': 'MESH:D011839',\n",
       "  'reperfusion 3 min': 'MESH:D015427',\n",
       "  'resistance index': 'ungrounded',\n",
       "  'trail or a weak': 'ungrounded'},\n",
       " {'MESH:D007259': 'Infrared Rays',\n",
       "  'HGNC:6091': 'INSR',\n",
       "  'MESH:D015427': 'Reperfusion Injury',\n",
       "  'MESH:D011839': 'Radiation, Ionizing'},\n",
       " ['HGNC:6091', 'MESH:D007259', 'MESH:D011839', 'MESH:D015427'])"
      ]
     },
     "execution_count": 15,
     "metadata": {},
     "output_type": "execute_result"
    }
   ],
   "source": [
    "result"
   ]
  },
  {
   "cell_type": "markdown",
   "metadata": {},
   "source": [
    "A screenshot of the app after all groundings have been entered is shown below. There are text boxes for namespace, standard name, and identifier; and checkboxes for each longform.  Clicking submit will link the checked longforms to the entered standard name and grounding. Names and groundings can be deleted by pressing the X button to the right of the grounding column. The labels column on the far right displays the unique groundings which have a namespace. Clicking the ``+`` button toggles whether a label is considered positive. When the user presses the ``generate`` button, the ``ground_with_gui`` function returns a tuple containing a grounding map, a names dictionary, and a list of positive labels. The web application will then stop running."
   ]
  },
  {
   "cell_type": "markdown",
   "metadata": {},
   "source": [
    "<img src=\"figures/adeft_gui.png\">"
   ]
  },
  {
   "cell_type": "markdown",
   "metadata": {},
   "source": [
    "### Tips and tricks\n",
    "There are several behaviors to aid in curation some of which are documented only here.\n",
    "1. Clicking on an entry in the Name or Grounding column for a nonempty row will populate the input boxes with the info for that row. Clicking on empty row performs no action; it does not clear the input boxes.\n",
    "2. Longforms for the rows left blank are implicitly mapped to the ``\"ungrounded\"`` label in the output.\n",
    "3. If the identifier `ignore` is entered without a namespace, any associated longforms will be dropped from the output. `ignore` will show up with yellow tint to highlight that it is not a typical grounding.\n",
    "4. If a path to a specifically formatted csv file is passed to ``ground_with_gui`` with the optional argument ``groundings_file``, then for groundings with associated rows in the file, the user only needs to enter the namespace and one of standard name or identifier. If the standard name and grounding match within the supplied file, the entries in the row will show up with a greenish color. If the standard name and grounding do not match the entries will show up with an orangeish color. If there are no relevant rows in the table, the entries in the GUI will show up in black. The file should be comma separated with \" as a quotechar. It should have columns of the form `namespace,identifier,standard name` with no header. The colors were chosen to be suggestive of the traditional green and red while still being color-blind friendly.\n",
    "5. Clicking on one of the column headers, `Longform`, `Score`, `Name`, or, `Grounding`, will cause the rows of the table to be sorted by that column."
   ]
  },
  {
   "cell_type": "markdown",
   "metadata": {},
   "source": [
    "Users may supply an initial grounding map. When building Adeft models, the user can supply initial groundings generated by a external grounding process and then use the GUI to manually review and correct these initial groundings. If a grounding map is supplied, an initial names map and list of positive labels can also be supplied."
   ]
  },
  {
   "cell_type": "code",
   "execution_count": 34,
   "metadata": {},
   "outputs": [],
   "source": [
    "result2 = ground_with_gui(longforms, scores, grounding_map=grounding_map, names=names)"
   ]
  },
  {
   "cell_type": "markdown",
   "metadata": {},
   "source": [
    "## Modifying Groundings without Retraining\n",
    "\n",
    "It is possible to modify groundings and standardized names without having to retrain the classifier. Suppose for\n",
    "instance that you prefer the Uniprot grounding for Insulin Receptor to the HGNC grounding and the protein name *Insulin Receptor* to the HGNC symbol INSR. This can be accomplished with the ``AdeftDisambiguator.modify_groundings`` method. Users can pass in dictionaries mapping previous groundings to new groundings, and previous names to new names. This method does not allow for two distinct groundings to be mapped to the same new grounding; the model should be retrained if this is desired."
   ]
  },
  {
   "cell_type": "code",
   "execution_count": 33,
   "metadata": {},
   "outputs": [],
   "source": [
    "my_disambiguator.modify_groundings(new_groundings={'HGNC:6091': 'UP:P06213'},\n",
    "                                   new_names={'HGNC:6091': 'Insulin Receptor'})"
   ]
  },
  {
   "cell_type": "markdown",
   "metadata": {},
   "source": [
    "We see below that the model info has successfully changed."
   ]
  },
  {
   "cell_type": "code",
   "execution_count": 34,
   "metadata": {},
   "outputs": [
    {
     "name": "stdout",
     "output_type": "stream",
     "text": [
      "Disambiguation model for IR\n",
      "\n",
      "Produces the disambiguations:\n",
      "\tInfrared Rays\tMESH:D007259\n",
      "\tInsulin Receptor*\tUP:P06213\n",
      "\tInsulin Resistance\tMESH:D007333\n",
      "\tRadiation, Ionizing*\tMESH:D011839\n",
      "\tReperfusion Injury\tMESH:D015427\n",
      "\n",
      "Class level metrics:\n",
      "--------------------\n",
      "Grounding          \tCount\tF1     \n",
      "Radiation, Ionizing*\t121\t0.94534\n",
      " Insulin Resistance\t 88\t 0.9034\n",
      "   Insulin Receptor*\t 70\t       \n",
      " Reperfusion Injury\t 44\t0.96725\n",
      "      Infrared Rays\t 11\t0.83333\n",
      "         Ungrounded\t  6\t    0.0\n",
      "\n",
      "Weighted Metrics:\n",
      "-----------------\n",
      "\tF1 score:\t0.92009\n",
      "\tPrecision:\t0.88585\n",
      "\tRecall:\t\t0.95816\n",
      "\n",
      "* Positive labels\n",
      "See Docstring for explanation\n",
      "\n"
     ]
    }
   ],
   "source": [
    "print(my_disambiguator.info())"
   ]
  },
  {
   "cell_type": "markdown",
   "metadata": {},
   "source": [
    "Disambiguations are now made with the updated grounding and name:"
   ]
  },
  {
   "cell_type": "code",
   "execution_count": 35,
   "metadata": {},
   "outputs": [
    {
     "data": {
      "text/plain": [
       "('UP:P06213',\n",
       " 'Insulin Receptor',\n",
       " {'UP:P06213': 0.9770414181197636,\n",
       "  'MESH:D007259': 0.00027064795309301987,\n",
       "  'MESH:D007333': 0.02213486460196367,\n",
       "  'MESH:D011839': 0.00015631159768796982,\n",
       "  'MESH:D015427': 0.00019090079505250734,\n",
       "  'ungrounded': 0.00020585693243914863})"
      ]
     },
     "execution_count": 35,
     "metadata": {},
     "output_type": "execute_result"
    }
   ],
   "source": [
    "my_disambiguator.disambiguate(example3)"
   ]
  },
  {
   "cell_type": "markdown",
   "metadata": {},
   "source": [
    "## Conclusion\n",
    "\n",
    "If you've followed along with this notebook and have access to suitable text corpora, you're now ready to build your own disambiguation models. If you believe you've found a bug in Adeft please submit an issue at https://github.com/indralab/adeft/issues. If you'd like to contribute see https://github.com/indralab/adeft/CONTRIBUTING.md. \n",
    "\n",
    "If you make use of Adeft in your research please cite the following paper:\n",
    "\n",
    "Steppi A, Gyori BM, Bachman JA (2020). Adeft: Acromine-based Disambiguation of Entities from Text with applications to the biomedical literature. Journal of Open Source Software, 5(45), 1708, https://doi.org/10.21105/joss.01708"
   ]
  }
 ],
 "metadata": {
  "kernelspec": {
   "display_name": "Python 3",
   "language": "python",
   "name": "python3"
  },
  "language_info": {
   "codemirror_mode": {
    "name": "ipython",
    "version": 3
   },
   "file_extension": ".py",
   "mimetype": "text/x-python",
   "name": "python",
   "nbconvert_exporter": "python",
   "pygments_lexer": "ipython3",
   "version": "3.8.5"
  },
  "name": "model_building.ipynb"
 },
 "nbformat": 4,
 "nbformat_minor": 2
}
